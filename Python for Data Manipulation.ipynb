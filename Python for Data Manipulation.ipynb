{
 "cells": [
  {
   "cell_type": "markdown",
   "metadata": {},
   "source": [
    "# Using Python for Data Manipulation"
   ]
  },
  {
   "cell_type": "code",
   "execution_count": null,
   "metadata": {
    "collapsed": true,
    "nbpresent": {
     "id": "a83618c4-0a06-41fb-8215-6b88247e9055"
    }
   },
   "outputs": [],
   "source": [
    "# Import needed Libraries.\n",
    "from datetime import datetime as dt\n",
    "import numpy as np\n",
    "import pandas as pd"
   ]
  },
  {
   "cell_type": "code",
   "execution_count": null,
   "metadata": {
    "collapsed": true,
    "nbpresent": {
     "id": "a4ccf9d4-4cdd-4a8f-8871-1b7f4154eb2d"
    }
   },
   "outputs": [],
   "source": [
    "# Import the raw data from excel files.  This is going to take a minute or five.\n",
    "report1 = pd.read_excel('report1.xlsx') # 2015 usage part 1\n",
    "report2 = pd.read_excel('report2.xlsx') # 2015 usage part 2\n",
    "report3 = pd.read_excel('report3.xlsx') # 2016 usage part 1"
   ]
  },
  {
   "cell_type": "code",
   "execution_count": null,
   "metadata": {
    "collapsed": false
   },
   "outputs": [],
   "source": [
    "# Let's Look at one of these dataframes\n",
    "# First the top\n",
    "report1.head()"
   ]
  },
  {
   "cell_type": "code",
   "execution_count": null,
   "metadata": {
    "collapsed": false
   },
   "outputs": [],
   "source": [
    "# Now the bottom\n",
    "report1.tail()"
   ]
  },
  {
   "cell_type": "code",
   "execution_count": null,
   "metadata": {
    "collapsed": false,
    "nbpresent": {
     "id": "0d8d023d-d08e-47de-b84a-307a36e61135"
    }
   },
   "outputs": [],
   "source": [
    "# Now let's combine all these into one table.\n",
    "new_usage = pd.concat([report1,report2,report3], ignore_index=True)\n",
    "new_usage.shape"
   ]
  },
  {
   "cell_type": "code",
   "execution_count": null,
   "metadata": {
    "collapsed": false,
    "nbpresent": {
     "id": "ed8716c7-743d-4fcc-8675-72224000761c"
    }
   },
   "outputs": [],
   "source": [
    "# Let's get rid of any row that has nan(blank) as the transactions id. \n",
    "new_usage = new_usage.dropna(subset=['Trans'])"
   ]
  },
  {
   "cell_type": "code",
   "execution_count": null,
   "metadata": {
    "collapsed": false
   },
   "outputs": [],
   "source": [
    "new_usage.tail()"
   ]
  },
  {
   "cell_type": "code",
   "execution_count": null,
   "metadata": {
    "collapsed": false
   },
   "outputs": [],
   "source": [
    "new_usage.shape"
   ]
  },
  {
   "cell_type": "code",
   "execution_count": null,
   "metadata": {
    "collapsed": false,
    "nbpresent": {
     "id": "11778ddd-ae2c-418d-8c1f-906fdc208940"
    }
   },
   "outputs": [],
   "source": [
    "# We need to make Trans a string.\n",
    "new_usage[\"Trans\"] = new_usage[\"Trans\"].astype(int).astype('str')"
   ]
  },
  {
   "cell_type": "code",
   "execution_count": null,
   "metadata": {
    "collapsed": false
   },
   "outputs": [],
   "source": [
    "# Let's check the types.\n",
    "new_usage.dtypes"
   ]
  },
  {
   "cell_type": "code",
   "execution_count": null,
   "metadata": {
    "collapsed": false,
    "nbpresent": {
     "id": "f2bdb4b9-4c7b-47df-a96e-f6b9d4345687"
    }
   },
   "outputs": [],
   "source": [
    "# We want to pivot this by week so we need to add a column for week.\n",
    "# Since we need this ordered by year also we will add a column for year.\n",
    "# We will throw in month to make me feel better.\n",
    "\n",
    "new_usage[\"Week\"] = new_usage[\"Date\"].dt.week\n",
    "new_usage[\"Month\"] = new_usage[\"Date\"].dt.month\n",
    "new_usage[\"Year\"] = new_usage[\"Date\"].dt.year"
   ]
  },
  {
   "cell_type": "code",
   "execution_count": null,
   "metadata": {
    "collapsed": false,
    "nbpresent": {
     "id": "ec350f7f-6503-4783-9984-2284820ee16d"
    },
    "scrolled": true
   },
   "outputs": [],
   "source": [
    "new_usage.tail()"
   ]
  },
  {
   "cell_type": "code",
   "execution_count": null,
   "metadata": {
    "collapsed": true,
    "nbpresent": {
     "id": "84b175ed-7821-4277-acb8-e4b933574087"
    }
   },
   "outputs": [],
   "source": [
    "# Whenever I do something scary I create a new dataframe.\n",
    "tmp_df = new_usage.copy()"
   ]
  },
  {
   "cell_type": "code",
   "execution_count": null,
   "metadata": {
    "collapsed": false,
    "nbpresent": {
     "id": "22becf77-7d59-4762-8c2a-ba7c15feac16"
    }
   },
   "outputs": [],
   "source": [
    "# Split the data set up so that we can modify the week number.\n",
    "# Currently the week number reflects the ISO Week number. This can be confusing to people.\n",
    "# I am going to fix it.\n",
    "week_53 = tmp_df[:][(tmp_df[\"Year\"] == 2016) & (tmp_df[\"Week\"] == 53)]\n",
    "all_other_2015 = tmp_df[:][(tmp_df[\"Year\"] == 2015)]\n",
    "all_other_2016 = tmp_df[:][(tmp_df[\"Year\"] == 2016) & (tmp_df[\"Week\"] != 53)]\n",
    "week_53.head()"
   ]
  },
  {
   "cell_type": "code",
   "execution_count": null,
   "metadata": {
    "collapsed": false,
    "nbpresent": {
     "id": "8a6dfde6-e31b-4278-b852-d2984f4b34ff"
    }
   },
   "outputs": [],
   "source": [
    "# Get rid of all instances of week 53 from 2016.\n",
    "week_53[\"Week\"] = 1\n",
    "# Add a week to the rest of the weeks of 2016.\n",
    "all_other_2016[\"Week\"] = all_other_2016[\"Week\"] + 1\n",
    "week_53.head()"
   ]
  },
  {
   "cell_type": "code",
   "execution_count": null,
   "metadata": {
    "collapsed": false,
    "nbpresent": {
     "id": "0d677dc3-ae1c-4afb-b7d1-9d1147ce823c"
    }
   },
   "outputs": [],
   "source": [
    "# Put the data sets back together.\n",
    "tmp_df = pd.concat([week_53, all_other_2015, all_other_2016])\n",
    "# Check that we still have the same amount of data as our original data set.\n",
    "if tmp_df.shape == new_usage.shape:\n",
    "    new_usage = tmp_df\n",
    "    print('Success!')\n",
    "else:\n",
    "    print('new: {}, original: {}').format(tmp_df.shape, new_usage.shape)"
   ]
  },
  {
   "cell_type": "code",
   "execution_count": null,
   "metadata": {
    "collapsed": false,
    "nbpresent": {
     "id": "7e71047f-9c33-41b8-993d-3a68d7af3f11"
    }
   },
   "outputs": [],
   "source": [
    "# Pivot the data grouping the items and displaying the usage by week.\n",
    "pivoted = pd.pivot_table(tmp_df, values=\"Qty_Change\", index=\"Item_Number\", columns=[\"Year\", \"Week\"], aggfunc=np.sum)\n",
    "pivoted.head()"
   ]
  },
  {
   "cell_type": "code",
   "execution_count": null,
   "metadata": {
    "collapsed": false,
    "nbpresent": {
     "id": "7fe2daa0-7d57-4fcc-8179-7fc20aa731d6"
    }
   },
   "outputs": [],
   "source": [
    "# Save the pivoted data back to an Excel file.\n",
    "pivoted.to_excel('pivoted_new.xlsx', sheet_name=\"pivot\", na_rep=0)"
   ]
  },
  {
   "cell_type": "code",
   "execution_count": null,
   "metadata": {
    "collapsed": false,
    "nbpresent": {
     "id": "005702db-30a1-4629-9a63-305de6ead875"
    }
   },
   "outputs": [],
   "source": [
    "# Save the core usage to Excel. This has the week 53 in Jan, 2016.\n",
    "new_usage.to_excel('new_usage.xlsx', na_rep=0, index=False)\n",
    "# Save the corrected data back to Excel. This does not have week 53 in Jan, 2016.\n",
    "# tmp_df.to_excel('tmp_df.xlsx', na_rep=0)"
   ]
  },
  {
   "cell_type": "code",
   "execution_count": null,
   "metadata": {
    "collapsed": true,
    "nbpresent": {
     "id": "b80b470b-f0aa-4f5d-8173-0e9b8f9e4114"
    }
   },
   "outputs": [],
   "source": []
  }
 ],
 "metadata": {
  "anaconda-cloud": {},
  "kernelspec": {
   "display_name": "Python [default]",
   "language": "python",
   "name": "python3"
  },
  "language_info": {
   "codemirror_mode": {
    "name": "ipython",
    "version": 3
   },
   "file_extension": ".py",
   "mimetype": "text/x-python",
   "name": "python",
   "nbconvert_exporter": "python",
   "pygments_lexer": "ipython3",
   "version": "3.5.2"
  },
  "nbpresent": {
   "slides": {
    "6c052e81-8450-4c53-b82f-8287da8087f9": {
     "id": "6c052e81-8450-4c53-b82f-8287da8087f9",
     "prev": "ab6f6076-383d-461b-ac4e-880533cfabdc",
     "regions": {
      "7d559b26-c42d-445e-a367-0bc55edd9259": {
       "attrs": {
        "height": 1,
        "width": 1,
        "x": 0,
        "y": 0
       },
       "content": {
        "cell": "46d6c40d-bea4-4572-9c78-2b4eb09af27c",
        "part": "whole"
       },
       "id": "7d559b26-c42d-445e-a367-0bc55edd9259"
      }
     }
    },
    "948d3ea8-fdbb-4474-94ac-bbfe2d41fe46": {
     "id": "948d3ea8-fdbb-4474-94ac-bbfe2d41fe46",
     "prev": null,
     "regions": {
      "51d566f3-a25f-40bc-ba77-b5a61c7afd73": {
       "attrs": {
        "height": 1,
        "width": 1,
        "x": 0,
        "y": 0
       },
       "content": {
        "cell": "0ff895c7-0ffc-431a-9f12-e204514caf98",
        "part": "whole"
       },
       "id": "51d566f3-a25f-40bc-ba77-b5a61c7afd73"
      }
     }
    },
    "ab6f6076-383d-461b-ac4e-880533cfabdc": {
     "id": "ab6f6076-383d-461b-ac4e-880533cfabdc",
     "prev": "948d3ea8-fdbb-4474-94ac-bbfe2d41fe46",
     "regions": {
      "de74da0d-b4d4-4d00-bc0e-d2e4c3ec026a": {
       "attrs": {
        "height": 1,
        "width": 1,
        "x": 0,
        "y": 0
       },
       "content": {
        "cell": "bd551b77-4e53-493b-a8c2-fb89a4939de1",
        "part": "whole"
       },
       "id": "de74da0d-b4d4-4d00-bc0e-d2e4c3ec026a"
      }
     }
    },
    "dcd44de1-44ae-445f-83c7-e3626ece0e34": {
     "id": "dcd44de1-44ae-445f-83c7-e3626ece0e34",
     "prev": "6c052e81-8450-4c53-b82f-8287da8087f9",
     "regions": {
      "52a85de7-d8a1-4d6b-99e8-cf5811360411": {
       "attrs": {
        "height": 1,
        "width": 1,
        "x": 0,
        "y": 0
       },
       "content": {
        "cell": "a83618c4-0a06-41fb-8215-6b88247e9055",
        "part": "source"
       },
       "id": "52a85de7-d8a1-4d6b-99e8-cf5811360411"
      }
     }
    }
   },
   "themes": {
    "default": "350cea8a-bf2e-4468-b5e7-e62f643d8781",
    "theme": {
     "350cea8a-bf2e-4468-b5e7-e62f643d8781": {
      "backgrounds": {
       "backgroundColor": {
        "background-color": "backgroundColor",
        "id": "backgroundColor"
       }
      },
      "id": "350cea8a-bf2e-4468-b5e7-e62f643d8781",
      "palette": {
       "backgroundColor": {
        "id": "backgroundColor",
        "rgb": [
         17,
         17,
         17
        ]
       },
       "headingColor": {
        "id": "headingColor",
        "rgb": [
         238,
         238,
         238
        ]
       },
       "linkColor": {
        "id": "linkColor",
        "rgb": [
         231,
         173,
         82
        ]
       },
       "mainColor": {
        "id": "mainColor",
        "rgb": [
         238,
         238,
         238
        ]
       }
      },
      "rules": {
       "a": {
        "color": "linkColor"
       },
       "h1": {
        "color": "headingColor",
        "font-family": "Montserrat",
        "font-size": 7
       },
       "h2": {
        "color": "headingColor",
        "font-family": "Montserrat",
        "font-size": 5
       },
       "h3": {
        "color": "headingColor",
        "font-family": "Montserrat",
        "font-size": 3.75
       },
       "h4": {
        "color": "headingColor",
        "font-family": "Montserrat",
        "font-size": 3
       },
       "h5": {
        "color": "headingColor",
        "font-family": "Montserrat"
       },
       "h6": {
        "color": "headingColor",
        "font-family": "Montserrat"
       },
       "h7": {
        "color": "headingColor",
        "font-family": "Montserrat"
       },
       "li": {
        "color": "mainColor",
        "font-family": "Open Sans",
        "font-size": 4
       },
       "p": {
        "color": "mainColor",
        "font-family": "Open Sans",
        "font-size": 4
       }
      },
      "text-base": {
       "color": "mainColor",
       "font-family": "Open Sans",
       "font-size": 4
      }
     }
    }
   }
  }
 },
 "nbformat": 4,
 "nbformat_minor": 0
}
