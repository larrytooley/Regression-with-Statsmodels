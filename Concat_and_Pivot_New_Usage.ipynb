{
 "cells": [
  {
   "cell_type": "markdown",
   "metadata": {},
   "source": [
    "# Concatenation and Pivoting of New Parts Usage"
   ]
  },
  {
   "cell_type": "code",
   "execution_count": 1,
   "metadata": {
    "collapsed": true
   },
   "outputs": [],
   "source": [
    "# Import needed Libraries.\n",
    "from datetime import datetime as dt\n",
    "import pandas as pd\n",
    "import numpy as np\n",
    "# import matplotlib.pyplot as plt\n",
    "# %matplotlib inline"
   ]
  },
  {
   "cell_type": "code",
   "execution_count": 2,
   "metadata": {
    "collapsed": true
   },
   "outputs": [],
   "source": [
    "# Import the raw data from excel files.  This is going to take a minute or five.\n",
    "report1 = pd.read_excel('report1.xlsx') # 2015 usage part 1\n",
    "report2 = pd.read_excel('report2.xlsx') # 2015 usage part 2\n",
    "report3 = pd.read_excel('report3.xlsx') # 2016 usage part 1"
   ]
  },
  {
   "cell_type": "code",
   "execution_count": 3,
   "metadata": {
    "collapsed": false
   },
   "outputs": [
    {
     "data": {
      "text/plain": [
       "(347905, 4)"
      ]
     },
     "execution_count": 3,
     "metadata": {},
     "output_type": "execute_result"
    }
   ],
   "source": [
    "# Now let's combine all these into one table.\n",
    "new_usage = pd.concat([report1,report2,report3], ignore_index=True)\n",
    "new_usage.shape"
   ]
  },
  {
   "cell_type": "code",
   "execution_count": 4,
   "metadata": {
    "collapsed": false
   },
   "outputs": [],
   "source": [
    "# Let's get rid of any row that has nan(blank) as the transactions id. \n",
    "new_usage = new_usage.dropna(subset=['Trans'])"
   ]
  },
  {
   "cell_type": "code",
   "execution_count": 5,
   "metadata": {
    "collapsed": false
   },
   "outputs": [],
   "source": [
    "# We need to make Trans and Line strings.\n",
    "new_usage[\"Trans\"] = new_usage[\"Trans\"].astype(int).astype('str')\n",
    "# new_usage[\"Line\"] = new_usage[\"Line\"].astype(int).astype('str')"
   ]
  },
  {
   "cell_type": "code",
   "execution_count": 6,
   "metadata": {
    "collapsed": false
   },
   "outputs": [],
   "source": [
    "# We want to pivot this by week so we need to add a column for week.\n",
    "# Since we need this ordered by year also we will add a column for year.\n",
    "# We will throw in month to make me feel better.\n",
    "\n",
    "new_usage[\"Week\"] = new_usage[\"Date\"].dt.week\n",
    "new_usage[\"Month\"] = new_usage[\"Date\"].dt.month\n",
    "new_usage[\"Year\"] = new_usage[\"Date\"].dt.year"
   ]
  },
  {
   "cell_type": "code",
   "execution_count": 7,
   "metadata": {
    "collapsed": false,
    "scrolled": true
   },
   "outputs": [
    {
     "data": {
      "text/html": [
       "<div>\n",
       "<table border=\"1\" class=\"dataframe\">\n",
       "  <thead>\n",
       "    <tr style=\"text-align: right;\">\n",
       "      <th></th>\n",
       "      <th>Trans</th>\n",
       "      <th>Item Number</th>\n",
       "      <th>Qty Change</th>\n",
       "      <th>Date</th>\n",
       "      <th>Week</th>\n",
       "      <th>Month</th>\n",
       "      <th>Year</th>\n",
       "    </tr>\n",
       "  </thead>\n",
       "  <tbody>\n",
       "    <tr>\n",
       "      <th>347898</th>\n",
       "      <td>25429819</td>\n",
       "      <td>2510847C91</td>\n",
       "      <td>-20.0</td>\n",
       "      <td>2016-06-13</td>\n",
       "      <td>24</td>\n",
       "      <td>6</td>\n",
       "      <td>2016</td>\n",
       "    </tr>\n",
       "    <tr>\n",
       "      <th>347899</th>\n",
       "      <td>25429822</td>\n",
       "      <td>1837731C1</td>\n",
       "      <td>-100.0</td>\n",
       "      <td>2016-06-13</td>\n",
       "      <td>24</td>\n",
       "      <td>6</td>\n",
       "      <td>2016</td>\n",
       "    </tr>\n",
       "    <tr>\n",
       "      <th>347900</th>\n",
       "      <td>25429823</td>\n",
       "      <td>1837732C1</td>\n",
       "      <td>-100.0</td>\n",
       "      <td>2016-06-13</td>\n",
       "      <td>24</td>\n",
       "      <td>6</td>\n",
       "      <td>2016</td>\n",
       "    </tr>\n",
       "    <tr>\n",
       "      <th>347901</th>\n",
       "      <td>25429825</td>\n",
       "      <td>1844474C1</td>\n",
       "      <td>-4.0</td>\n",
       "      <td>2016-06-13</td>\n",
       "      <td>24</td>\n",
       "      <td>6</td>\n",
       "      <td>2016</td>\n",
       "    </tr>\n",
       "    <tr>\n",
       "      <th>347902</th>\n",
       "      <td>25429829</td>\n",
       "      <td>1854006C1</td>\n",
       "      <td>-100.0</td>\n",
       "      <td>2016-06-13</td>\n",
       "      <td>24</td>\n",
       "      <td>6</td>\n",
       "      <td>2016</td>\n",
       "    </tr>\n",
       "  </tbody>\n",
       "</table>\n",
       "</div>"
      ],
      "text/plain": [
       "           Trans Item Number  Qty Change       Date  Week  Month  Year\n",
       "347898  25429819  2510847C91       -20.0 2016-06-13    24      6  2016\n",
       "347899  25429822   1837731C1      -100.0 2016-06-13    24      6  2016\n",
       "347900  25429823   1837732C1      -100.0 2016-06-13    24      6  2016\n",
       "347901  25429825   1844474C1        -4.0 2016-06-13    24      6  2016\n",
       "347902  25429829   1854006C1      -100.0 2016-06-13    24      6  2016"
      ]
     },
     "execution_count": 7,
     "metadata": {},
     "output_type": "execute_result"
    }
   ],
   "source": [
    "new_usage.tail()"
   ]
  },
  {
   "cell_type": "code",
   "execution_count": 8,
   "metadata": {
    "collapsed": true
   },
   "outputs": [],
   "source": [
    "tmp_df = new_usage"
   ]
  },
  {
   "cell_type": "code",
   "execution_count": 9,
   "metadata": {
    "collapsed": false
   },
   "outputs": [
    {
     "data": {
      "text/html": [
       "<div>\n",
       "<table border=\"1\" class=\"dataframe\">\n",
       "  <thead>\n",
       "    <tr style=\"text-align: right;\">\n",
       "      <th></th>\n",
       "      <th>Trans</th>\n",
       "      <th>Item Number</th>\n",
       "      <th>Qty Change</th>\n",
       "      <th>Date</th>\n",
       "      <th>Week</th>\n",
       "      <th>Month</th>\n",
       "      <th>Year</th>\n",
       "    </tr>\n",
       "  </thead>\n",
       "  <tbody>\n",
       "    <tr>\n",
       "      <th>240214</th>\n",
       "      <td>24679253</td>\n",
       "      <td>1848172C2OSP1</td>\n",
       "      <td>-2.0</td>\n",
       "      <td>2016-01-04</td>\n",
       "      <td>1</td>\n",
       "      <td>1</td>\n",
       "      <td>2016</td>\n",
       "    </tr>\n",
       "    <tr>\n",
       "      <th>240215</th>\n",
       "      <td>24679255</td>\n",
       "      <td>1848172C2OSP1</td>\n",
       "      <td>-2.0</td>\n",
       "      <td>2016-01-04</td>\n",
       "      <td>1</td>\n",
       "      <td>1</td>\n",
       "      <td>2016</td>\n",
       "    </tr>\n",
       "    <tr>\n",
       "      <th>240216</th>\n",
       "      <td>24679256</td>\n",
       "      <td>1824383C2</td>\n",
       "      <td>-20.0</td>\n",
       "      <td>2016-01-04</td>\n",
       "      <td>1</td>\n",
       "      <td>1</td>\n",
       "      <td>2016</td>\n",
       "    </tr>\n",
       "    <tr>\n",
       "      <th>240217</th>\n",
       "      <td>24679260</td>\n",
       "      <td>1824400C1</td>\n",
       "      <td>-10.0</td>\n",
       "      <td>2016-01-04</td>\n",
       "      <td>1</td>\n",
       "      <td>1</td>\n",
       "      <td>2016</td>\n",
       "    </tr>\n",
       "    <tr>\n",
       "      <th>240218</th>\n",
       "      <td>24679263</td>\n",
       "      <td>1817960C1</td>\n",
       "      <td>-80.0</td>\n",
       "      <td>2016-01-04</td>\n",
       "      <td>1</td>\n",
       "      <td>1</td>\n",
       "      <td>2016</td>\n",
       "    </tr>\n",
       "  </tbody>\n",
       "</table>\n",
       "</div>"
      ],
      "text/plain": [
       "           Trans    Item Number  Qty Change       Date  Week  Month  Year\n",
       "240214  24679253  1848172C2OSP1        -2.0 2016-01-04     1      1  2016\n",
       "240215  24679255  1848172C2OSP1        -2.0 2016-01-04     1      1  2016\n",
       "240216  24679256      1824383C2       -20.0 2016-01-04     1      1  2016\n",
       "240217  24679260      1824400C1       -10.0 2016-01-04     1      1  2016\n",
       "240218  24679263      1817960C1       -80.0 2016-01-04     1      1  2016"
      ]
     },
     "execution_count": 9,
     "metadata": {},
     "output_type": "execute_result"
    }
   ],
   "source": [
    "# Split the data set up so that we can modify the week number.\n",
    "week_53 = tmp_df[:][(tmp_df[\"Year\"] == 2016) & (tmp_df[\"Week\"] == 53)]\n",
    "all_other_2015 = tmp_df[:][(tmp_df[\"Year\"] == 2015)]\n",
    "all_other_2016 = tmp_df[:][(tmp_df[\"Year\"] == 2016) & (tmp_df[\"Week\"] != 53)]\n",
    "all_other_2016.head()"
   ]
  },
  {
   "cell_type": "code",
   "execution_count": 10,
   "metadata": {
    "collapsed": false
   },
   "outputs": [
    {
     "data": {
      "text/html": [
       "<div>\n",
       "<table border=\"1\" class=\"dataframe\">\n",
       "  <thead>\n",
       "    <tr style=\"text-align: right;\">\n",
       "      <th></th>\n",
       "      <th>Trans</th>\n",
       "      <th>Item Number</th>\n",
       "      <th>Qty Change</th>\n",
       "      <th>Date</th>\n",
       "      <th>Week</th>\n",
       "      <th>Month</th>\n",
       "      <th>Year</th>\n",
       "    </tr>\n",
       "  </thead>\n",
       "  <tbody>\n",
       "    <tr>\n",
       "      <th>240214</th>\n",
       "      <td>24679253</td>\n",
       "      <td>1848172C2OSP1</td>\n",
       "      <td>-2.0</td>\n",
       "      <td>2016-01-04</td>\n",
       "      <td>2</td>\n",
       "      <td>1</td>\n",
       "      <td>2016</td>\n",
       "    </tr>\n",
       "    <tr>\n",
       "      <th>240215</th>\n",
       "      <td>24679255</td>\n",
       "      <td>1848172C2OSP1</td>\n",
       "      <td>-2.0</td>\n",
       "      <td>2016-01-04</td>\n",
       "      <td>2</td>\n",
       "      <td>1</td>\n",
       "      <td>2016</td>\n",
       "    </tr>\n",
       "    <tr>\n",
       "      <th>240216</th>\n",
       "      <td>24679256</td>\n",
       "      <td>1824383C2</td>\n",
       "      <td>-20.0</td>\n",
       "      <td>2016-01-04</td>\n",
       "      <td>2</td>\n",
       "      <td>1</td>\n",
       "      <td>2016</td>\n",
       "    </tr>\n",
       "    <tr>\n",
       "      <th>240217</th>\n",
       "      <td>24679260</td>\n",
       "      <td>1824400C1</td>\n",
       "      <td>-10.0</td>\n",
       "      <td>2016-01-04</td>\n",
       "      <td>2</td>\n",
       "      <td>1</td>\n",
       "      <td>2016</td>\n",
       "    </tr>\n",
       "    <tr>\n",
       "      <th>240218</th>\n",
       "      <td>24679263</td>\n",
       "      <td>1817960C1</td>\n",
       "      <td>-80.0</td>\n",
       "      <td>2016-01-04</td>\n",
       "      <td>2</td>\n",
       "      <td>1</td>\n",
       "      <td>2016</td>\n",
       "    </tr>\n",
       "  </tbody>\n",
       "</table>\n",
       "</div>"
      ],
      "text/plain": [
       "           Trans    Item Number  Qty Change       Date  Week  Month  Year\n",
       "240214  24679253  1848172C2OSP1        -2.0 2016-01-04     2      1  2016\n",
       "240215  24679255  1848172C2OSP1        -2.0 2016-01-04     2      1  2016\n",
       "240216  24679256      1824383C2       -20.0 2016-01-04     2      1  2016\n",
       "240217  24679260      1824400C1       -10.0 2016-01-04     2      1  2016\n",
       "240218  24679263      1817960C1       -80.0 2016-01-04     2      1  2016"
      ]
     },
     "execution_count": 10,
     "metadata": {},
     "output_type": "execute_result"
    }
   ],
   "source": [
    "# Get rid of all instances of week 53 from 2016.\n",
    "week_53[\"Week\"] = 1\n",
    "# Add a week to the rest of the weeks of 2016.\n",
    "all_other_2016[\"Week\"] = all_other_2016[\"Week\"] + 1\n",
    "all_other_2016.head()"
   ]
  },
  {
   "cell_type": "code",
   "execution_count": 12,
   "metadata": {
    "collapsed": false
   },
   "outputs": [
    {
     "name": "stdout",
     "output_type": "stream",
     "text": [
      "Success!\n"
     ]
    }
   ],
   "source": [
    "# Put the data sets back together.\n",
    "tmp_df = pd.concat([week_53, all_other_2015, all_other_2016])\n",
    "# Check that we still have the same amount of data as our original data set.\n",
    "if tmp_df.shape == new_usage.shape:\n",
    "    new_usage = tmp_df\n",
    "    print('Success!')\n",
    "else:\n",
    "    print('new: {}, original: {}').format(tmp_df.shape, new_usage.shape)"
   ]
  },
  {
   "cell_type": "code",
   "execution_count": 13,
   "metadata": {
    "collapsed": false
   },
   "outputs": [
    {
     "data": {
      "text/html": [
       "<div>\n",
       "<table border=\"1\" class=\"dataframe\">\n",
       "  <thead>\n",
       "    <tr>\n",
       "      <th>Year</th>\n",
       "      <th colspan=\"10\" halign=\"left\">2015</th>\n",
       "      <th>...</th>\n",
       "      <th colspan=\"10\" halign=\"left\">2016</th>\n",
       "    </tr>\n",
       "    <tr>\n",
       "      <th>Week</th>\n",
       "      <th>1</th>\n",
       "      <th>2</th>\n",
       "      <th>3</th>\n",
       "      <th>4</th>\n",
       "      <th>5</th>\n",
       "      <th>6</th>\n",
       "      <th>7</th>\n",
       "      <th>8</th>\n",
       "      <th>9</th>\n",
       "      <th>10</th>\n",
       "      <th>...</th>\n",
       "      <th>16</th>\n",
       "      <th>17</th>\n",
       "      <th>18</th>\n",
       "      <th>19</th>\n",
       "      <th>20</th>\n",
       "      <th>21</th>\n",
       "      <th>22</th>\n",
       "      <th>23</th>\n",
       "      <th>24</th>\n",
       "      <th>25</th>\n",
       "    </tr>\n",
       "    <tr>\n",
       "      <th>Item Number</th>\n",
       "      <th></th>\n",
       "      <th></th>\n",
       "      <th></th>\n",
       "      <th></th>\n",
       "      <th></th>\n",
       "      <th></th>\n",
       "      <th></th>\n",
       "      <th></th>\n",
       "      <th></th>\n",
       "      <th></th>\n",
       "      <th></th>\n",
       "      <th></th>\n",
       "      <th></th>\n",
       "      <th></th>\n",
       "      <th></th>\n",
       "      <th></th>\n",
       "      <th></th>\n",
       "      <th></th>\n",
       "      <th></th>\n",
       "      <th></th>\n",
       "      <th></th>\n",
       "    </tr>\n",
       "  </thead>\n",
       "  <tbody>\n",
       "    <tr>\n",
       "      <th>0171446</th>\n",
       "      <td>NaN</td>\n",
       "      <td>NaN</td>\n",
       "      <td>NaN</td>\n",
       "      <td>NaN</td>\n",
       "      <td>NaN</td>\n",
       "      <td>NaN</td>\n",
       "      <td>NaN</td>\n",
       "      <td>NaN</td>\n",
       "      <td>NaN</td>\n",
       "      <td>NaN</td>\n",
       "      <td>...</td>\n",
       "      <td>NaN</td>\n",
       "      <td>NaN</td>\n",
       "      <td>NaN</td>\n",
       "      <td>NaN</td>\n",
       "      <td>NaN</td>\n",
       "      <td>NaN</td>\n",
       "      <td>NaN</td>\n",
       "      <td>NaN</td>\n",
       "      <td>NaN</td>\n",
       "      <td>NaN</td>\n",
       "    </tr>\n",
       "    <tr>\n",
       "      <th>033-6033</th>\n",
       "      <td>NaN</td>\n",
       "      <td>NaN</td>\n",
       "      <td>NaN</td>\n",
       "      <td>NaN</td>\n",
       "      <td>NaN</td>\n",
       "      <td>NaN</td>\n",
       "      <td>NaN</td>\n",
       "      <td>NaN</td>\n",
       "      <td>NaN</td>\n",
       "      <td>NaN</td>\n",
       "      <td>...</td>\n",
       "      <td>-604.0</td>\n",
       "      <td>-696.0</td>\n",
       "      <td>-600.0</td>\n",
       "      <td>NaN</td>\n",
       "      <td>NaN</td>\n",
       "      <td>-500.0</td>\n",
       "      <td>-916.0</td>\n",
       "      <td>NaN</td>\n",
       "      <td>-489.0</td>\n",
       "      <td>NaN</td>\n",
       "    </tr>\n",
       "    <tr>\n",
       "      <th>06032168304</th>\n",
       "      <td>NaN</td>\n",
       "      <td>NaN</td>\n",
       "      <td>NaN</td>\n",
       "      <td>-80.0</td>\n",
       "      <td>NaN</td>\n",
       "      <td>NaN</td>\n",
       "      <td>-40.0</td>\n",
       "      <td>NaN</td>\n",
       "      <td>-40.0</td>\n",
       "      <td>NaN</td>\n",
       "      <td>...</td>\n",
       "      <td>NaN</td>\n",
       "      <td>NaN</td>\n",
       "      <td>NaN</td>\n",
       "      <td>NaN</td>\n",
       "      <td>NaN</td>\n",
       "      <td>NaN</td>\n",
       "      <td>NaN</td>\n",
       "      <td>NaN</td>\n",
       "      <td>NaN</td>\n",
       "      <td>NaN</td>\n",
       "    </tr>\n",
       "    <tr>\n",
       "      <th>06032168313</th>\n",
       "      <td>NaN</td>\n",
       "      <td>NaN</td>\n",
       "      <td>NaN</td>\n",
       "      <td>NaN</td>\n",
       "      <td>-60.0</td>\n",
       "      <td>NaN</td>\n",
       "      <td>NaN</td>\n",
       "      <td>NaN</td>\n",
       "      <td>NaN</td>\n",
       "      <td>NaN</td>\n",
       "      <td>...</td>\n",
       "      <td>NaN</td>\n",
       "      <td>NaN</td>\n",
       "      <td>NaN</td>\n",
       "      <td>NaN</td>\n",
       "      <td>NaN</td>\n",
       "      <td>NaN</td>\n",
       "      <td>NaN</td>\n",
       "      <td>NaN</td>\n",
       "      <td>NaN</td>\n",
       "      <td>NaN</td>\n",
       "    </tr>\n",
       "    <tr>\n",
       "      <th>06032168333</th>\n",
       "      <td>NaN</td>\n",
       "      <td>NaN</td>\n",
       "      <td>NaN</td>\n",
       "      <td>NaN</td>\n",
       "      <td>-130.0</td>\n",
       "      <td>NaN</td>\n",
       "      <td>NaN</td>\n",
       "      <td>NaN</td>\n",
       "      <td>NaN</td>\n",
       "      <td>NaN</td>\n",
       "      <td>...</td>\n",
       "      <td>NaN</td>\n",
       "      <td>NaN</td>\n",
       "      <td>NaN</td>\n",
       "      <td>NaN</td>\n",
       "      <td>NaN</td>\n",
       "      <td>NaN</td>\n",
       "      <td>NaN</td>\n",
       "      <td>NaN</td>\n",
       "      <td>NaN</td>\n",
       "      <td>NaN</td>\n",
       "    </tr>\n",
       "  </tbody>\n",
       "</table>\n",
       "<p>5 rows × 78 columns</p>\n",
       "</div>"
      ],
      "text/plain": [
       "Year        2015                                              ...   2016  \\\n",
       "Week          1   2   3     4      5   6     7   8     9   10 ...     16   \n",
       "Item Number                                                   ...          \n",
       "0171446      NaN NaN NaN   NaN    NaN NaN   NaN NaN   NaN NaN ...    NaN   \n",
       "033-6033     NaN NaN NaN   NaN    NaN NaN   NaN NaN   NaN NaN ... -604.0   \n",
       "06032168304  NaN NaN NaN -80.0    NaN NaN -40.0 NaN -40.0 NaN ...    NaN   \n",
       "06032168313  NaN NaN NaN   NaN  -60.0 NaN   NaN NaN   NaN NaN ...    NaN   \n",
       "06032168333  NaN NaN NaN   NaN -130.0 NaN   NaN NaN   NaN NaN ...    NaN   \n",
       "\n",
       "Year                                                            \n",
       "Week            17     18  19  20     21     22  23     24  25  \n",
       "Item Number                                                     \n",
       "0171446        NaN    NaN NaN NaN    NaN    NaN NaN    NaN NaN  \n",
       "033-6033    -696.0 -600.0 NaN NaN -500.0 -916.0 NaN -489.0 NaN  \n",
       "06032168304    NaN    NaN NaN NaN    NaN    NaN NaN    NaN NaN  \n",
       "06032168313    NaN    NaN NaN NaN    NaN    NaN NaN    NaN NaN  \n",
       "06032168333    NaN    NaN NaN NaN    NaN    NaN NaN    NaN NaN  \n",
       "\n",
       "[5 rows x 78 columns]"
      ]
     },
     "execution_count": 13,
     "metadata": {},
     "output_type": "execute_result"
    }
   ],
   "source": [
    "# Pivot the data grouping the items and displaying the usage by week.\n",
    "pivoted = pd.pivot_table(tmp_df, values=\"Qty Change\", index=\"Item Number\", columns=[\"Year\", \"Week\"], aggfunc=np.sum)\n",
    "pivoted.head()"
   ]
  },
  {
   "cell_type": "code",
   "execution_count": 19,
   "metadata": {
    "collapsed": false
   },
   "outputs": [],
   "source": [
    "# Save the pivoted data back to an Excel file.\n",
    "pivoted.to_excel('pivoted_new.xlsx', sheet_name=\"pivot\", na_rep=0)"
   ]
  },
  {
   "cell_type": "code",
   "execution_count": 20,
   "metadata": {
    "collapsed": false
   },
   "outputs": [],
   "source": [
    "# Save the core usage to Excel. This has the week 53 in Jan, 2016.\n",
    "new_usage.to_excel('new_usage.xlsx', na_rep=0, index=False)\n",
    "# Save the corrected data back to Excel. This does not have week 53 in Jan, 2016.\n",
    "# tmp_df.to_excel('tmp_df.xlsx', na_rep=0)"
   ]
  },
  {
   "cell_type": "code",
   "execution_count": null,
   "metadata": {
    "collapsed": true
   },
   "outputs": [],
   "source": []
  }
 ],
 "metadata": {
  "kernelspec": {
   "display_name": "Python 3",
   "language": "python",
   "name": "python3"
  },
  "language_info": {
   "codemirror_mode": {
    "name": "ipython",
    "version": 3
   },
   "file_extension": ".py",
   "mimetype": "text/x-python",
   "name": "python",
   "nbconvert_exporter": "python",
   "pygments_lexer": "ipython3",
   "version": "3.5.1"
  }
 },
 "nbformat": 4,
 "nbformat_minor": 0
}
