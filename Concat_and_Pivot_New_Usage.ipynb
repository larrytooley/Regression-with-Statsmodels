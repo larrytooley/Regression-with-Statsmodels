{
 "cells": [
  {
   "cell_type": "markdown",
   "metadata": {},
   "source": [
    "# Concatenation and Pivoting of New Parts Usage"
   ]
  },
  {
   "cell_type": "code",
   "execution_count": 1,
   "metadata": {
    "collapsed": true
   },
   "outputs": [],
   "source": [
    "# Import needed Libraries.\n",
    "from datetime import datetime as dt\n",
    "import pandas as pd\n",
    "import numpy as np\n",
    "# import matplotlib.pyplot as plt\n",
    "# %matplotlib inline"
   ]
  },
  {
   "cell_type": "code",
   "execution_count": 19,
   "metadata": {
    "collapsed": true
   },
   "outputs": [],
   "source": [
    "# Import the raw data from excel files.  This is going to take a minute or five.\n",
    "report1 = pd.read_excel('report1.xlsx') # 2015 usage part 1\n",
    "report2 = pd.read_excel('report2.xlsx') # 2015 usage part 2\n",
    "report3 = pd.read_excel('report3.xlsx') # 2016 usage part 1"
   ]
  },
  {
   "cell_type": "code",
   "execution_count": 20,
   "metadata": {
    "collapsed": false
   },
   "outputs": [
    {
     "data": {
      "text/plain": [
       "(504834, 4)"
      ]
     },
     "execution_count": 20,
     "metadata": {},
     "output_type": "execute_result"
    }
   ],
   "source": [
    "# Now let's combine all these into one table.\n",
    "new_usage = pd.concat([report1,report2,report3], ignore_index=True)\n",
    "new_usage.shape"
   ]
  },
  {
   "cell_type": "code",
   "execution_count": 21,
   "metadata": {
    "collapsed": false
   },
   "outputs": [
    {
     "data": {
      "text/html": [
       "<div>\n",
       "<table border=\"1\" class=\"dataframe\">\n",
       "  <thead>\n",
       "    <tr style=\"text-align: right;\">\n",
       "      <th></th>\n",
       "      <th>Trans</th>\n",
       "      <th>Item_Number</th>\n",
       "      <th>Qty_Change</th>\n",
       "      <th>Date</th>\n",
       "    </tr>\n",
       "  </thead>\n",
       "  <tbody>\n",
       "    <tr>\n",
       "      <th>0</th>\n",
       "      <td>10000000.0</td>\n",
       "      <td>P1095</td>\n",
       "      <td>4.0</td>\n",
       "      <td>2015-01-04</td>\n",
       "    </tr>\n",
       "    <tr>\n",
       "      <th>1</th>\n",
       "      <td>10000001.0</td>\n",
       "      <td>P1063</td>\n",
       "      <td>48.0</td>\n",
       "      <td>2015-01-04</td>\n",
       "    </tr>\n",
       "    <tr>\n",
       "      <th>2</th>\n",
       "      <td>10000002.0</td>\n",
       "      <td>P1066</td>\n",
       "      <td>150.0</td>\n",
       "      <td>2015-01-04</td>\n",
       "    </tr>\n",
       "    <tr>\n",
       "      <th>3</th>\n",
       "      <td>10000003.0</td>\n",
       "      <td>P1107</td>\n",
       "      <td>100.0</td>\n",
       "      <td>2015-01-04</td>\n",
       "    </tr>\n",
       "    <tr>\n",
       "      <th>4</th>\n",
       "      <td>10000004.0</td>\n",
       "      <td>P1083</td>\n",
       "      <td>126.0</td>\n",
       "      <td>2015-01-04</td>\n",
       "    </tr>\n",
       "  </tbody>\n",
       "</table>\n",
       "</div>"
      ],
      "text/plain": [
       "        Trans Item_Number  Qty_Change       Date\n",
       "0  10000000.0       P1095         4.0 2015-01-04\n",
       "1  10000001.0       P1063        48.0 2015-01-04\n",
       "2  10000002.0       P1066       150.0 2015-01-04\n",
       "3  10000003.0       P1107       100.0 2015-01-04\n",
       "4  10000004.0       P1083       126.0 2015-01-04"
      ]
     },
     "execution_count": 21,
     "metadata": {},
     "output_type": "execute_result"
    }
   ],
   "source": [
    "# Let's look at the top of this frame.\n",
    "new_usage.head()"
   ]
  },
  {
   "cell_type": "code",
   "execution_count": 22,
   "metadata": {
    "collapsed": false
   },
   "outputs": [
    {
     "data": {
      "text/html": [
       "<div>\n",
       "<table border=\"1\" class=\"dataframe\">\n",
       "  <thead>\n",
       "    <tr style=\"text-align: right;\">\n",
       "      <th></th>\n",
       "      <th>Trans</th>\n",
       "      <th>Item_Number</th>\n",
       "      <th>Qty_Change</th>\n",
       "      <th>Date</th>\n",
       "    </tr>\n",
       "  </thead>\n",
       "  <tbody>\n",
       "    <tr>\n",
       "      <th>504829</th>\n",
       "      <td>25521147.0</td>\n",
       "      <td>P1330</td>\n",
       "      <td>60.0</td>\n",
       "      <td>2016-06-30</td>\n",
       "    </tr>\n",
       "    <tr>\n",
       "      <th>504830</th>\n",
       "      <td>25521148.0</td>\n",
       "      <td>P1081</td>\n",
       "      <td>200.0</td>\n",
       "      <td>2016-06-30</td>\n",
       "    </tr>\n",
       "    <tr>\n",
       "      <th>504831</th>\n",
       "      <td>25521149.0</td>\n",
       "      <td>P1914</td>\n",
       "      <td>32.0</td>\n",
       "      <td>2016-06-30</td>\n",
       "    </tr>\n",
       "    <tr>\n",
       "      <th>504832</th>\n",
       "      <td>NaN</td>\n",
       "      <td>NaN</td>\n",
       "      <td>NaN</td>\n",
       "      <td>NaT</td>\n",
       "    </tr>\n",
       "    <tr>\n",
       "      <th>504833</th>\n",
       "      <td>NaN</td>\n",
       "      <td>REPORT TOTAL</td>\n",
       "      <td>8279154.0</td>\n",
       "      <td>NaT</td>\n",
       "    </tr>\n",
       "  </tbody>\n",
       "</table>\n",
       "</div>"
      ],
      "text/plain": [
       "             Trans   Item_Number  Qty_Change       Date\n",
       "504829  25521147.0         P1330        60.0 2016-06-30\n",
       "504830  25521148.0         P1081       200.0 2016-06-30\n",
       "504831  25521149.0         P1914        32.0 2016-06-30\n",
       "504832         NaN           NaN         NaN        NaT\n",
       "504833         NaN  REPORT TOTAL   8279154.0        NaT"
      ]
     },
     "execution_count": 22,
     "metadata": {},
     "output_type": "execute_result"
    }
   ],
   "source": [
    "# Now the bottom.\n",
    "new_usage.tail()"
   ]
  },
  {
   "cell_type": "code",
   "execution_count": 23,
   "metadata": {
    "collapsed": false
   },
   "outputs": [],
   "source": [
    "# Let's get rid of any row that has nan(blank) as the transactions id. \n",
    "new_usage = new_usage.dropna(subset=['Trans'])"
   ]
  },
  {
   "cell_type": "code",
   "execution_count": null,
   "metadata": {
    "collapsed": false
   },
   "outputs": [],
   "source": [
    "# We need to make Trans a string.\n",
    "new_usage[\"Trans\"] = new_usage[\"Trans\"].astype(int).astype('str')\n",
    "# new_usage[\"Line\"] = new_usage[\"Line\"].astype(int).astype('str')"
   ]
  },
  {
   "cell_type": "code",
   "execution_count": null,
   "metadata": {
    "collapsed": false
   },
   "outputs": [],
   "source": [
    "# We want to pivot this by week so we need to add a column for week.\n",
    "# Since we need this ordered by year also we will add a column for year.\n",
    "# We will throw in month to make me feel better.\n",
    "\n",
    "new_usage[\"Week\"] = new_usage[\"Date\"].dt.week\n",
    "new_usage[\"Month\"] = new_usage[\"Date\"].dt.month\n",
    "new_usage[\"Year\"] = new_usage[\"Date\"].dt.year"
   ]
  },
  {
   "cell_type": "code",
   "execution_count": null,
   "metadata": {
    "collapsed": false,
    "scrolled": true
   },
   "outputs": [],
   "source": [
    "new_usage.tail()"
   ]
  },
  {
   "cell_type": "code",
   "execution_count": null,
   "metadata": {
    "collapsed": true
   },
   "outputs": [],
   "source": [
    "tmp_df = new_usage"
   ]
  },
  {
   "cell_type": "code",
   "execution_count": null,
   "metadata": {
    "collapsed": false
   },
   "outputs": [],
   "source": [
    "# Split the data set up so that we can modify the week number.\n",
    "week_53 = tmp_df[:][(tmp_df[\"Year\"] == 2016) & (tmp_df[\"Week\"] == 53)]\n",
    "all_other_2015 = tmp_df[:][(tmp_df[\"Year\"] == 2015)]\n",
    "all_other_2016 = tmp_df[:][(tmp_df[\"Year\"] == 2016) & (tmp_df[\"Week\"] != 53)]\n",
    "all_other_2016.head()"
   ]
  },
  {
   "cell_type": "code",
   "execution_count": null,
   "metadata": {
    "collapsed": false
   },
   "outputs": [],
   "source": [
    "# Get rid of all instances of week 53 from 2016.\n",
    "week_53[\"Week\"] = 1\n",
    "# Add a week to the rest of the weeks of 2016.\n",
    "all_other_2016[\"Week\"] = all_other_2016[\"Week\"] + 1\n",
    "all_other_2016.head()"
   ]
  },
  {
   "cell_type": "code",
   "execution_count": null,
   "metadata": {
    "collapsed": false
   },
   "outputs": [],
   "source": [
    "# Put the data sets back together.\n",
    "tmp_df = pd.concat([week_53, all_other_2015, all_other_2016])\n",
    "# Check that we still have the same amount of data as our original data set.\n",
    "if tmp_df.shape == new_usage.shape:\n",
    "    new_usage = tmp_df\n",
    "    print('Success!')\n",
    "else:\n",
    "    print('new: {}, original: {}').format(tmp_df.shape, new_usage.shape)"
   ]
  },
  {
   "cell_type": "code",
   "execution_count": null,
   "metadata": {
    "collapsed": false
   },
   "outputs": [],
   "source": [
    "# Pivot the data grouping the items and displaying the usage by week.\n",
    "pivoted = pd.pivot_table(tmp_df, values=\"Qty Change\", index=\"Item Number\", columns=[\"Year\", \"Week\"], aggfunc=np.sum)\n",
    "pivoted.head()"
   ]
  },
  {
   "cell_type": "code",
   "execution_count": null,
   "metadata": {
    "collapsed": false
   },
   "outputs": [],
   "source": [
    "# Save the pivoted data back to an Excel file.\n",
    "pivoted.to_excel('pivoted_new.xlsx', sheet_name=\"pivot\", na_rep=0)"
   ]
  },
  {
   "cell_type": "code",
   "execution_count": null,
   "metadata": {
    "collapsed": false
   },
   "outputs": [],
   "source": [
    "# Save the core usage to Excel. This has the week 53 in Jan, 2016.\n",
    "new_usage.to_excel('new_usage.xlsx', na_rep=0, index=False)\n",
    "# Save the corrected data back to Excel. This does not have week 53 in Jan, 2016.\n",
    "# tmp_df.to_excel('tmp_df.xlsx', na_rep=0)"
   ]
  },
  {
   "cell_type": "code",
   "execution_count": null,
   "metadata": {
    "collapsed": true
   },
   "outputs": [],
   "source": []
  }
 ],
 "metadata": {
  "kernelspec": {
   "display_name": "Python 3",
   "language": "python",
   "name": "python3"
  },
  "language_info": {
   "codemirror_mode": {
    "name": "ipython",
    "version": 3
   },
   "file_extension": ".py",
   "mimetype": "text/x-python",
   "name": "python",
   "nbconvert_exporter": "python",
   "pygments_lexer": "ipython3",
   "version": "3.5.1"
  }
 },
 "nbformat": 4,
 "nbformat_minor": 0
}
